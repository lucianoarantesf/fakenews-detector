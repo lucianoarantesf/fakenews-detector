{
 "cells": [
  {
   "cell_type": "code",
   "execution_count": null,
   "id": "5d83cc8e",
   "metadata": {},
   "outputs": [],
   "source": [
    "#importar as bibliotecas\n",
    "import pandas as pd\n",
    "import numpy as np\n",
    "import re\n",
    "import nltk\n",
    "from nltk.corpus import stopwords\n",
    "from nltk.stem.porter import PorterStemmer\n",
    "from sklearn.feature_extraction.text import TfidfVectorizer\n",
    "from sklearn.model_selection import train_test_split\n",
    "from sklearn.linear_model import LogisticRegression\n",
    "from sklearn.metrics import accuracy_score"
   ]
  },
  {
   "cell_type": "code",
   "execution_count": null,
   "id": "cb3b25ae",
   "metadata": {
    "scrolled": true
   },
   "outputs": [],
   "source": [
    "nltk.download('stopwords')\n",
    "stoplist = set(stopwords.words(\"english\"))\n",
    "print(stopwords.words('english'))"
   ]
  },
  {
   "cell_type": "code",
   "execution_count": null,
   "id": "8b61422a",
   "metadata": {},
   "outputs": [],
   "source": [
    "#carregar dataset\n",
    "#os dados foram carregados do kaggle para treinar nossa ia.\n",
    "df = pd.read_csv('train.csv',encoding='utf8')"
   ]
  },
  {
   "cell_type": "code",
   "execution_count": null,
   "id": "08b38702",
   "metadata": {
    "scrolled": true
   },
   "outputs": [],
   "source": [
    "df.isnull().sum()\n",
    "#retirar nulos\n",
    "df.dropna(inplace=True)\n",
    "df.isnull().sum()"
   ]
  },
  {
   "cell_type": "code",
   "execution_count": null,
   "id": "2b3d0562",
   "metadata": {},
   "outputs": [],
   "source": [
    "#juntar os campos\n",
    "df['all'] = df['title'] +'  '+ df['author'] +'  '+ df['text']  \n",
    "pd.options.display.max_colwidth = 150\n",
    "print(df['all'])"
   ]
  },
  {
   "cell_type": "code",
   "execution_count": null,
   "id": "50843bc3",
   "metadata": {},
   "outputs": [],
   "source": [
    "#criar função de stemmer\n",
    "#ele tenta trazer a palavra até a palavra rais, ou seja, se a palavra for atuando ele tenta trazer ela para atuar.\n",
    "porter_stemmer = PorterStemmer()\n",
    " \n",
    "def stemming_tokenizer(df):\n",
    "\n",
    "    words= re.sub(r\"[^A-Za-z]\", \" \", df).lower().split()\n",
    "    words= [porter_stemmer.stem(word) for word in words if not words in stopwords.words('english')]\n",
    "    words= ' '.join(words)\n",
    "    return words "
   ]
  },
  {
   "cell_type": "code",
   "execution_count": null,
   "id": "576bf750",
   "metadata": {
    "scrolled": true
   },
   "outputs": [],
   "source": [
    "\n",
    "df['features'] = df['all'].apply(stemming_tokenizer)\n",
    "print(df['features'])"
   ]
  },
  {
   "cell_type": "code",
   "execution_count": null,
   "id": "c7bce25e",
   "metadata": {},
   "outputs": [],
   "source": [
    "#separa em features e label\n",
    "#label representa a veracidade da informação sendo 1 para fake e 0 pra real\n",
    "x = df['features'].values\n",
    "y = df['label'].values\n",
    "\n",
    "x.size"
   ]
  },
  {
   "cell_type": "code",
   "execution_count": null,
   "id": "af9e778a",
   "metadata": {
    "scrolled": true
   },
   "outputs": [],
   "source": [
    "# convert de texto para numeros\n",
    "vectorizer = TfidfVectorizer()\n",
    "vectorizer.fit(x)\n",
    "z = vectorizer.transform(x)\n"
   ]
  },
  {
   "cell_type": "code",
   "execution_count": null,
   "id": "5040a931",
   "metadata": {
    "scrolled": true
   },
   "outputs": [],
   "source": [
    "z_train, z_test, y_train, y_test = train_test_split(z, y, test_size=0.2,stratify=y, random_state=42) "
   ]
  },
  {
   "cell_type": "code",
   "execution_count": null,
   "id": "56ac0c9b",
   "metadata": {},
   "outputs": [],
   "source": [
    "print(len(y_test))"
   ]
  },
  {
   "cell_type": "code",
   "execution_count": null,
   "id": "852623bd",
   "metadata": {},
   "outputs": [],
   "source": [
    "#treinando o modelo\n",
    "\n",
    "lr = LogisticRegression()\n",
    "lr.fit(z_test,y_test)"
   ]
  },
  {
   "cell_type": "code",
   "execution_count": null,
   "id": "dbde406e",
   "metadata": {},
   "outputs": [],
   "source": [
    "#previsão \n",
    "\n",
    "pred = lr.predict(z_test)\n",
    "\n",
    "acc = accuracy_score(y_test,pred)\n",
    "f'Acurácia:{acc * 100:.2f}'\n"
   ]
  },
  {
   "cell_type": "code",
   "execution_count": null,
   "id": "c6232b9d",
   "metadata": {},
   "outputs": [],
   "source": [
    "# Pré-processamento da notícia\n",
    "noticia = \"Rapper T.I.: Trump a ’Poster Child For White Supremacy’  Jerome Hudson  Rapper T. I. unloaded on black celebrities who met with Donald Trump afte\"\n",
    "noticia_preprocessada = stemming_tokenizer(noticia)\n",
    "\n",
    "# Convertendo a notícia em uma representação numérica\n",
    "noticia_numerica = vectorizer.transform([noticia_preprocessada])\n",
    "\n",
    "#Fazendo a previsão\n",
    "probabilidade_falsa = lr.predict_proba(noticia_numerica)[:, 1]  # Obtém a probabilidade da classe falsa\n",
    "\n",
    "chance_falsa = probabilidade_falsa[0] * 100  # Multiplica por 100 para obter a porcentagem\n",
    "chance_verdadeira = 100 - chance_falsa  # Calcula a porcentagem de chances de ser verdadeira\n",
    "\n",
    "if chance_falsa > 50:\n",
    "    print(\"A notícia é falsa.\")\n",
    "else:\n",
    "    print(\"A notícia é verdadeira.\")\n",
    "\n"
   ]
  }
 ],
 "metadata": {
  "kernelspec": {
   "display_name": "Python 3 (ipykernel)",
   "language": "python",
   "name": "python3"
  },
  "language_info": {
   "codemirror_mode": {
    "name": "ipython",
    "version": 3
   },
   "file_extension": ".py",
   "mimetype": "text/x-python",
   "name": "python",
   "nbconvert_exporter": "python",
   "pygments_lexer": "ipython3",
   "version": "3.11.3"
  }
 },
 "nbformat": 4,
 "nbformat_minor": 5
}
