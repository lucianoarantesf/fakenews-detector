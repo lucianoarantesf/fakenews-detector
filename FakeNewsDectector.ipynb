{
 "cells": [
  {
   "cell_type": "code",
   "execution_count": 1,
   "id": "5d83cc8e",
   "metadata": {},
   "outputs": [],
   "source": [
    "#importar as bibliotecas\n",
    "import pandas as pd\n",
    "import numpy as np\n",
    "import re\n",
    "import nltk\n",
    "from nltk.corpus import stopwords\n",
    "from nltk.stem.porter import PorterStemmer\n",
    "from sklearn.feature_extraction.text import TfidfVectorizer\n",
    "from sklearn.model_selection import train_test_split\n",
    "from sklearn.linear_model import LogisticRegression\n",
    "from sklearn.metrics import accuracy_score"
   ]
  },
  {
   "cell_type": "code",
   "execution_count": 2,
   "id": "cb3b25ae",
   "metadata": {
    "scrolled": true
   },
   "outputs": [
    {
     "name": "stdout",
     "output_type": "stream",
     "text": [
      "['i', 'me', 'my', 'myself', 'we', 'our', 'ours', 'ourselves', 'you', \"you're\", \"you've\", \"you'll\", \"you'd\", 'your', 'yours', 'yourself', 'yourselves', 'he', 'him', 'his', 'himself', 'she', \"she's\", 'her', 'hers', 'herself', 'it', \"it's\", 'its', 'itself', 'they', 'them', 'their', 'theirs', 'themselves', 'what', 'which', 'who', 'whom', 'this', 'that', \"that'll\", 'these', 'those', 'am', 'is', 'are', 'was', 'were', 'be', 'been', 'being', 'have', 'has', 'had', 'having', 'do', 'does', 'did', 'doing', 'a', 'an', 'the', 'and', 'but', 'if', 'or', 'because', 'as', 'until', 'while', 'of', 'at', 'by', 'for', 'with', 'about', 'against', 'between', 'into', 'through', 'during', 'before', 'after', 'above', 'below', 'to', 'from', 'up', 'down', 'in', 'out', 'on', 'off', 'over', 'under', 'again', 'further', 'then', 'once', 'here', 'there', 'when', 'where', 'why', 'how', 'all', 'any', 'both', 'each', 'few', 'more', 'most', 'other', 'some', 'such', 'no', 'nor', 'not', 'only', 'own', 'same', 'so', 'than', 'too', 'very', 's', 't', 'can', 'will', 'just', 'don', \"don't\", 'should', \"should've\", 'now', 'd', 'll', 'm', 'o', 're', 've', 'y', 'ain', 'aren', \"aren't\", 'couldn', \"couldn't\", 'didn', \"didn't\", 'doesn', \"doesn't\", 'hadn', \"hadn't\", 'hasn', \"hasn't\", 'haven', \"haven't\", 'isn', \"isn't\", 'ma', 'mightn', \"mightn't\", 'mustn', \"mustn't\", 'needn', \"needn't\", 'shan', \"shan't\", 'shouldn', \"shouldn't\", 'wasn', \"wasn't\", 'weren', \"weren't\", 'won', \"won't\", 'wouldn', \"wouldn't\"]\n"
     ]
    },
    {
     "name": "stderr",
     "output_type": "stream",
     "text": [
      "[nltk_data] Downloading package stopwords to\n",
      "[nltk_data]     C:\\Users\\AvecomDev\\AppData\\Roaming\\nltk_data...\n",
      "[nltk_data]   Package stopwords is already up-to-date!\n"
     ]
    }
   ],
   "source": [
    "nltk.download('stopwords')\n",
    "stoplist = set(stopwords.words(\"english\"))\n",
    "print(stopwords.words('english'))"
   ]
  },
  {
   "cell_type": "code",
   "execution_count": 3,
   "id": "8b61422a",
   "metadata": {},
   "outputs": [],
   "source": [
    "#carregar dataset\n",
    "#os dados foram carregados do kaggle para treinar nossa ia.\n",
    "df = pd.read_csv('train.csv',encoding='utf8')"
   ]
  },
  {
   "cell_type": "code",
   "execution_count": 4,
   "id": "08b38702",
   "metadata": {
    "scrolled": true
   },
   "outputs": [
    {
     "data": {
      "text/plain": [
       "id        0\n",
       "title     0\n",
       "author    0\n",
       "text      0\n",
       "label     0\n",
       "dtype: int64"
      ]
     },
     "execution_count": 4,
     "metadata": {},
     "output_type": "execute_result"
    }
   ],
   "source": [
    "df.isnull().sum()\n",
    "#retirar nulos\n",
    "df.dropna(inplace=True)\n",
    "df.isnull().sum()"
   ]
  },
  {
   "cell_type": "code",
   "execution_count": 5,
   "id": "2b3d0562",
   "metadata": {},
   "outputs": [
    {
     "name": "stdout",
     "output_type": "stream",
     "text": [
      "0        House Dem Aide: We Didn’t Even See Comey’s Letter Until Jason Chaffetz Tweeted It  Darrell Lucus  House Dem Aide: We Didn’t Even See Comey’s Lette...\n",
      "1        FLYNN: Hillary Clinton, Big Woman on Campus - Breitbart  Daniel J. Flynn  Ever get the feeling your life circles the roundabout rather than heads ...\n",
      "2        Why the Truth Might Get You Fired  Consortiumnews.com  Why the Truth Might Get You Fired October 29, 2016 \\nThe tension between intelligence analy...\n",
      "3        15 Civilians Killed In Single US Airstrike Have Been Identified  Jessica Purkiss  Videos 15 Civilians Killed In Single US Airstrike Have Been Iden...\n",
      "4        Iranian woman jailed for fictional unpublished story about woman stoned to death for adultery  Howard Portnoy  Print \\nAn Iranian woman has been s...\n",
      "                                                                                 ...                                                                          \n",
      "20795    Rapper T.I.: Trump a ’Poster Child For White Supremacy’  Jerome Hudson  Rapper T. I. unloaded on black celebrities who met with Donald Trump after...\n",
      "20796    N.F.L. Playoffs: Schedule, Matchups and Odds - The New York Times  Benjamin Hoffman  When the Green Bay Packers lost to the Washington Redskins in...\n",
      "20797    Macy’s Is Said to Receive Takeover Approach by Hudson’s Bay - The New York Times  Michael J. de la Merced and Rachel Abrams  The Macy’s of today g...\n",
      "20798    NATO, Russia To Hold Parallel Exercises In Balkans  Alex Ansary  NATO, Russia To Hold Parallel Exercises In Balkans 11/02/2016 \\nPRESS TV \\nRussia...\n",
      "20799    What Keeps the F-35 Alive  David Swanson    David Swanson is an author, activist, journalist, and radio host. He is a 2015 Nobel Peace Prize Nomin...\n",
      "Name: all, Length: 18285, dtype: object\n"
     ]
    }
   ],
   "source": [
    "#juntar os campos\n",
    "df['all'] = df['title'] +'  '+ df['author'] +'  '+ df['text']  \n",
    "pd.options.display.max_colwidth = 150\n",
    "print(df['all'])"
   ]
  },
  {
   "cell_type": "code",
   "execution_count": 6,
   "id": "50843bc3",
   "metadata": {},
   "outputs": [],
   "source": [
    "#criar função de stemmer\n",
    "#ele tenta trazer a palavra até a palavra rais, ou seja, se a palavra for atuando ele tenta trazer ela para atuar.\n",
    "porter_stemmer = PorterStemmer()\n",
    " \n",
    "def stemming_tokenizer(df):\n",
    "\n",
    "    words= re.sub(r\"[^A-Za-z]\", \" \", df).lower().split()\n",
    "    words= [porter_stemmer.stem(word) for word in words if not words in stopwords.words('english')]\n",
    "    words= ' '.join(words)\n",
    "    return words "
   ]
  },
  {
   "cell_type": "code",
   "execution_count": 7,
   "id": "576bf750",
   "metadata": {
    "scrolled": true
   },
   "outputs": [
    {
     "name": "stdout",
     "output_type": "stream",
     "text": [
      "0        hous dem aid we didn t even see comey s letter until jason chaffetz tweet it darrel lucu hous dem aid we didn t even see comey s letter until jaso...\n",
      "1        flynn hillari clinton big woman on campu breitbart daniel j flynn ever get the feel your life circl the roundabout rather than head in a straight ...\n",
      "2        whi the truth might get you fire consortiumnew com whi the truth might get you fire octob the tension between intellig analyst and polit policymak...\n",
      "3        civilian kill in singl us airstrik have been identifi jessica purkiss video civilian kill in singl us airstrik have been identifi the rate at whic...\n",
      "4        iranian woman jail for fiction unpublish stori about woman stone to death for adulteri howard portnoy print an iranian woman ha been sentenc to si...\n",
      "                                                                                 ...                                                                          \n",
      "20795    rapper t i trump a poster child for white supremaci jerom hudson rapper t i unload on black celebr who met with donald trump after the elect say t...\n",
      "20796    n f l playoff schedul matchup and odd the new york time benjamin hoffman when the green bay packer lost to the washington redskin in week drop to ...\n",
      "20797    maci s is said to receiv takeov approach by hudson s bay the new york time michael j de la merc and rachel abram the maci s of today grew from the...\n",
      "20798    nato russia to hold parallel exercis in balkan alex ansari nato russia to hold parallel exercis in balkan press tv russia s militari and nato forc...\n",
      "20799    what keep the f aliv david swanson david swanson is an author activist journalist and radio host he is a nobel peac prize nomine he is director of...\n",
      "Name: features, Length: 18285, dtype: object\n"
     ]
    }
   ],
   "source": [
    "\n",
    "df['features'] = df['all'].apply(stemming_tokenizer)\n",
    "print(df['features'])"
   ]
  },
  {
   "cell_type": "code",
   "execution_count": 341,
   "id": "c7bce25e",
   "metadata": {},
   "outputs": [
    {
     "data": {
      "text/plain": [
       "18285"
      ]
     },
     "execution_count": 341,
     "metadata": {},
     "output_type": "execute_result"
    }
   ],
   "source": [
    "#separa em features e label\n",
    "#label representa a veracidade da informação sendo 1 para fake e 0 pra real\n",
    "x = df['features'].values\n",
    "y = df['label'].values\n",
    "\n",
    "x.size"
   ]
  },
  {
   "cell_type": "code",
   "execution_count": 342,
   "id": "af9e778a",
   "metadata": {
    "scrolled": true
   },
   "outputs": [],
   "source": [
    "# convert de texto para numeros\n",
    "vectorizer = TfidfVectorizer()\n",
    "vectorizer.fit(x)\n",
    "z = vectorizer.transform(x)\n"
   ]
  },
  {
   "cell_type": "code",
   "execution_count": 362,
   "id": "5040a931",
   "metadata": {
    "scrolled": true
   },
   "outputs": [],
   "source": [
    "z_train, z_test, y_train, y_test = train_test_split(z, y, test_size=0.2,stratify=y, random_state=42) "
   ]
  },
  {
   "cell_type": "code",
   "execution_count": 363,
   "id": "56ac0c9b",
   "metadata": {},
   "outputs": [
    {
     "name": "stdout",
     "output_type": "stream",
     "text": [
      "3657\n"
     ]
    }
   ],
   "source": [
    "print(len(y_test))"
   ]
  },
  {
   "cell_type": "code",
   "execution_count": 364,
   "id": "852623bd",
   "metadata": {},
   "outputs": [
    {
     "data": {
      "text/html": [
       "<style>#sk-container-id-14 {color: black;background-color: white;}#sk-container-id-14 pre{padding: 0;}#sk-container-id-14 div.sk-toggleable {background-color: white;}#sk-container-id-14 label.sk-toggleable__label {cursor: pointer;display: block;width: 100%;margin-bottom: 0;padding: 0.3em;box-sizing: border-box;text-align: center;}#sk-container-id-14 label.sk-toggleable__label-arrow:before {content: \"▸\";float: left;margin-right: 0.25em;color: #696969;}#sk-container-id-14 label.sk-toggleable__label-arrow:hover:before {color: black;}#sk-container-id-14 div.sk-estimator:hover label.sk-toggleable__label-arrow:before {color: black;}#sk-container-id-14 div.sk-toggleable__content {max-height: 0;max-width: 0;overflow: hidden;text-align: left;background-color: #f0f8ff;}#sk-container-id-14 div.sk-toggleable__content pre {margin: 0.2em;color: black;border-radius: 0.25em;background-color: #f0f8ff;}#sk-container-id-14 input.sk-toggleable__control:checked~div.sk-toggleable__content {max-height: 200px;max-width: 100%;overflow: auto;}#sk-container-id-14 input.sk-toggleable__control:checked~label.sk-toggleable__label-arrow:before {content: \"▾\";}#sk-container-id-14 div.sk-estimator input.sk-toggleable__control:checked~label.sk-toggleable__label {background-color: #d4ebff;}#sk-container-id-14 div.sk-label input.sk-toggleable__control:checked~label.sk-toggleable__label {background-color: #d4ebff;}#sk-container-id-14 input.sk-hidden--visually {border: 0;clip: rect(1px 1px 1px 1px);clip: rect(1px, 1px, 1px, 1px);height: 1px;margin: -1px;overflow: hidden;padding: 0;position: absolute;width: 1px;}#sk-container-id-14 div.sk-estimator {font-family: monospace;background-color: #f0f8ff;border: 1px dotted black;border-radius: 0.25em;box-sizing: border-box;margin-bottom: 0.5em;}#sk-container-id-14 div.sk-estimator:hover {background-color: #d4ebff;}#sk-container-id-14 div.sk-parallel-item::after {content: \"\";width: 100%;border-bottom: 1px solid gray;flex-grow: 1;}#sk-container-id-14 div.sk-label:hover label.sk-toggleable__label {background-color: #d4ebff;}#sk-container-id-14 div.sk-serial::before {content: \"\";position: absolute;border-left: 1px solid gray;box-sizing: border-box;top: 0;bottom: 0;left: 50%;z-index: 0;}#sk-container-id-14 div.sk-serial {display: flex;flex-direction: column;align-items: center;background-color: white;padding-right: 0.2em;padding-left: 0.2em;position: relative;}#sk-container-id-14 div.sk-item {position: relative;z-index: 1;}#sk-container-id-14 div.sk-parallel {display: flex;align-items: stretch;justify-content: center;background-color: white;position: relative;}#sk-container-id-14 div.sk-item::before, #sk-container-id-14 div.sk-parallel-item::before {content: \"\";position: absolute;border-left: 1px solid gray;box-sizing: border-box;top: 0;bottom: 0;left: 50%;z-index: -1;}#sk-container-id-14 div.sk-parallel-item {display: flex;flex-direction: column;z-index: 1;position: relative;background-color: white;}#sk-container-id-14 div.sk-parallel-item:first-child::after {align-self: flex-end;width: 50%;}#sk-container-id-14 div.sk-parallel-item:last-child::after {align-self: flex-start;width: 50%;}#sk-container-id-14 div.sk-parallel-item:only-child::after {width: 0;}#sk-container-id-14 div.sk-dashed-wrapped {border: 1px dashed gray;margin: 0 0.4em 0.5em 0.4em;box-sizing: border-box;padding-bottom: 0.4em;background-color: white;}#sk-container-id-14 div.sk-label label {font-family: monospace;font-weight: bold;display: inline-block;line-height: 1.2em;}#sk-container-id-14 div.sk-label-container {text-align: center;}#sk-container-id-14 div.sk-container {/* jupyter's `normalize.less` sets `[hidden] { display: none; }` but bootstrap.min.css set `[hidden] { display: none !important; }` so we also need the `!important` here to be able to override the default hidden behavior on the sphinx rendered scikit-learn.org. See: https://github.com/scikit-learn/scikit-learn/issues/21755 */display: inline-block !important;position: relative;}#sk-container-id-14 div.sk-text-repr-fallback {display: none;}</style><div id=\"sk-container-id-14\" class=\"sk-top-container\"><div class=\"sk-text-repr-fallback\"><pre>LogisticRegression()</pre><b>In a Jupyter environment, please rerun this cell to show the HTML representation or trust the notebook. <br />On GitHub, the HTML representation is unable to render, please try loading this page with nbviewer.org.</b></div><div class=\"sk-container\" hidden><div class=\"sk-item\"><div class=\"sk-estimator sk-toggleable\"><input class=\"sk-toggleable__control sk-hidden--visually\" id=\"sk-estimator-id-14\" type=\"checkbox\" checked><label for=\"sk-estimator-id-14\" class=\"sk-toggleable__label sk-toggleable__label-arrow\">LogisticRegression</label><div class=\"sk-toggleable__content\"><pre>LogisticRegression()</pre></div></div></div></div></div>"
      ],
      "text/plain": [
       "LogisticRegression()"
      ]
     },
     "execution_count": 364,
     "metadata": {},
     "output_type": "execute_result"
    }
   ],
   "source": [
    "#treinando o modelo\n",
    "\n",
    "lr = LogisticRegression()\n",
    "lr.fit(z_test,y_test)"
   ]
  },
  {
   "cell_type": "code",
   "execution_count": 378,
   "id": "dbde406e",
   "metadata": {},
   "outputs": [
    {
     "data": {
      "text/plain": [
       "'Acurácia:97.10'"
      ]
     },
     "execution_count": 378,
     "metadata": {},
     "output_type": "execute_result"
    }
   ],
   "source": [
    "#previsão \n",
    "\n",
    "pred = lr.predict(z_test)\n",
    "\n",
    "acc = accuracy_score(y_test,pred)\n",
    "f'Acurácia:{acc * 100:.2f}'\n"
   ]
  },
  {
   "cell_type": "code",
   "execution_count": 381,
   "id": "c6232b9d",
   "metadata": {},
   "outputs": [
    {
     "name": "stdout",
     "output_type": "stream",
     "text": [
      "A notícia é falsa.\n"
     ]
    }
   ],
   "source": [
    "# Pré-processamento da notícia\n",
    "noticia = \"Rapper T.I.: Trump a ’Poster Child For White Supremacy’  Jerome Hudson  Rapper T. I. unloaded on black celebrities who met with Donald Trump afte\"\n",
    "noticia_preprocessada = stemming_tokenizer(noticia)\n",
    "\n",
    "# Convertendo a notícia em uma representação numérica\n",
    "noticia_numerica = vectorizer.transform([noticia_preprocessada])\n",
    "\n",
    "#Fazendo a previsão\n",
    "probabilidade_falsa = lr.predict_proba(noticia_numerica)[:, 1]  # Obtém a probabilidade da classe falsa\n",
    "\n",
    "chance_falsa = probabilidade_falsa[0] * 100  # Multiplica por 100 para obter a porcentagem\n",
    "chance_verdadeira = 100 - chance_falsa  # Calcula a porcentagem de chances de ser verdadeira\n",
    "\n",
    "if chance_falsa > 50:\n",
    "    print(\"A notícia é falsa.\")\n",
    "else:\n",
    "    print(\"A notícia é verdadeira.\")\n",
    "\n"
   ]
  }
 ],
 "metadata": {
  "kernelspec": {
   "display_name": "Python 3 (ipykernel)",
   "language": "python",
   "name": "python3"
  },
  "language_info": {
   "codemirror_mode": {
    "name": "ipython",
    "version": 3
   },
   "file_extension": ".py",
   "mimetype": "text/x-python",
   "name": "python",
   "nbconvert_exporter": "python",
   "pygments_lexer": "ipython3",
   "version": "3.11.3"
  }
 },
 "nbformat": 4,
 "nbformat_minor": 5
}
